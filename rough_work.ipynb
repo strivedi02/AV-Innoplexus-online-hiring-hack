{
 "cells": [
  {
   "cell_type": "code",
   "execution_count": 1,
   "metadata": {},
   "outputs": [
    {
     "name": "stderr",
     "output_type": "stream",
     "text": [
      "D:\\Users\\BULLET\\Anaconda3\\lib\\site-packages\\h5py\\__init__.py:36: FutureWarning: Conversion of the second argument of issubdtype from `float` to `np.floating` is deprecated. In future, it will be treated as `np.float64 == np.dtype(float).type`.\n",
      "  from ._conv import register_converters as _register_converters\n",
      "Using TensorFlow backend.\n"
     ]
    }
   ],
   "source": [
    "import pandas as pd\n",
    "import matplotlib.pyplot as plt\n",
    "%matplotlib inline\n",
    "plt.style.use(\"ggplot\")\n",
    "import statistics\n",
    "from tqdm import tqdm_notebook\n",
    "import re\n",
    "from keras.utils import to_categorical\n",
    "from keras.models import Sequential, Model\n",
    "from keras.layers.normalization import BatchNormalization\n",
    "from keras.layers import Dense, Dropout, Flatten, Input, MaxPooling1D, Convolution1D, Embedding, LSTM, Bidirectional\n",
    "from keras.layers.merge import Concatenate\n",
    "from keras.datasets import imdb\n",
    "from keras.preprocessing import sequence\n",
    "import numpy as np\n",
    "np.random.seed(0)"
   ]
  },
  {
   "cell_type": "code",
   "execution_count": 133,
   "metadata": {},
   "outputs": [],
   "source": [
    "train_data = pd.read_csv(\"train_F3WbcTw.csv\")\n",
    "test_data = pd.read_csv(\"test_tOlRoBf.csv\")"
   ]
  },
  {
   "cell_type": "code",
   "execution_count": 27,
   "metadata": {},
   "outputs": [
    {
     "data": {
      "text/html": [
       "<div>\n",
       "<style scoped>\n",
       "    .dataframe tbody tr th:only-of-type {\n",
       "        vertical-align: middle;\n",
       "    }\n",
       "\n",
       "    .dataframe tbody tr th {\n",
       "        vertical-align: top;\n",
       "    }\n",
       "\n",
       "    .dataframe thead th {\n",
       "        text-align: right;\n",
       "    }\n",
       "</style>\n",
       "<table border=\"1\" class=\"dataframe\">\n",
       "  <thead>\n",
       "    <tr style=\"text-align: right;\">\n",
       "      <th></th>\n",
       "      <th>unique_hash</th>\n",
       "      <th>text</th>\n",
       "      <th>drug</th>\n",
       "      <th>sentiment</th>\n",
       "    </tr>\n",
       "  </thead>\n",
       "  <tbody>\n",
       "    <tr>\n",
       "      <th>0</th>\n",
       "      <td>2e180be4c9214c1f5ab51fd8cc32bc80c9f612e0</td>\n",
       "      <td>Autoimmune diseases tend to come in clusters. ...</td>\n",
       "      <td>gilenya</td>\n",
       "      <td>2</td>\n",
       "    </tr>\n",
       "    <tr>\n",
       "      <th>1</th>\n",
       "      <td>9eba8f80e7e20f3a2f48685530748fbfa95943e4</td>\n",
       "      <td>I can completely understand why you’d want to ...</td>\n",
       "      <td>gilenya</td>\n",
       "      <td>2</td>\n",
       "    </tr>\n",
       "    <tr>\n",
       "      <th>2</th>\n",
       "      <td>fe809672251f6bd0d986e00380f48d047c7e7b76</td>\n",
       "      <td>Interesting that it only targets S1P-1/5 recep...</td>\n",
       "      <td>fingolimod</td>\n",
       "      <td>2</td>\n",
       "    </tr>\n",
       "    <tr>\n",
       "      <th>3</th>\n",
       "      <td>bd22104dfa9ec80db4099523e03fae7a52735eb6</td>\n",
       "      <td>Very interesting, grand merci. Now I wonder wh...</td>\n",
       "      <td>ocrevus</td>\n",
       "      <td>2</td>\n",
       "    </tr>\n",
       "    <tr>\n",
       "      <th>4</th>\n",
       "      <td>b227688381f9b25e5b65109dd00f7f895e838249</td>\n",
       "      <td>Hi everybody, My latest MRI results for Brain ...</td>\n",
       "      <td>gilenya</td>\n",
       "      <td>1</td>\n",
       "    </tr>\n",
       "  </tbody>\n",
       "</table>\n",
       "</div>"
      ],
      "text/plain": [
       "                                unique_hash  \\\n",
       "0  2e180be4c9214c1f5ab51fd8cc32bc80c9f612e0   \n",
       "1  9eba8f80e7e20f3a2f48685530748fbfa95943e4   \n",
       "2  fe809672251f6bd0d986e00380f48d047c7e7b76   \n",
       "3  bd22104dfa9ec80db4099523e03fae7a52735eb6   \n",
       "4  b227688381f9b25e5b65109dd00f7f895e838249   \n",
       "\n",
       "                                                text        drug  sentiment  \n",
       "0  Autoimmune diseases tend to come in clusters. ...     gilenya          2  \n",
       "1  I can completely understand why you’d want to ...     gilenya          2  \n",
       "2  Interesting that it only targets S1P-1/5 recep...  fingolimod          2  \n",
       "3  Very interesting, grand merci. Now I wonder wh...     ocrevus          2  \n",
       "4  Hi everybody, My latest MRI results for Brain ...     gilenya          1  "
      ]
     },
     "execution_count": 27,
     "metadata": {},
     "output_type": "execute_result"
    }
   ],
   "source": [
    "train_data.head()"
   ]
  },
  {
   "cell_type": "code",
   "execution_count": 28,
   "metadata": {},
   "outputs": [],
   "source": [
    "# data['text'][27]"
   ]
  },
  {
   "cell_type": "code",
   "execution_count": 29,
   "metadata": {},
   "outputs": [],
   "source": [
    "# plt.hist([len(train_data['text'].iloc[line].split()) for line in range(0,len(train_data))],bins=5000)\n",
    "# plt.show()"
   ]
  },
  {
   "cell_type": "code",
   "execution_count": 134,
   "metadata": {},
   "outputs": [
    {
     "name": "stdout",
     "output_type": "stream",
     "text": [
      "19614\n"
     ]
    }
   ],
   "source": [
    "print(max([len(train_data['text'].iloc[line].split()) for line in range(0,len(train_data))]))"
   ]
  },
  {
   "cell_type": "code",
   "execution_count": 135,
   "metadata": {},
   "outputs": [
    {
     "name": "stdout",
     "output_type": "stream",
     "text": [
      "Mean length of the sentences: 341.40178064027276\n"
     ]
    }
   ],
   "source": [
    "print(\"Mean length of the sentences:\",statistics.mean([len(train_data['text'].iloc[line].split()) for line in range(0,len(train_data))]))"
   ]
  },
  {
   "cell_type": "code",
   "execution_count": 136,
   "metadata": {},
   "outputs": [],
   "source": [
    "# data['text'][27]"
   ]
  },
  {
   "cell_type": "code",
   "execution_count": 137,
   "metadata": {},
   "outputs": [],
   "source": [
    "def preprocessing(data):\n",
    "    sentences = list(data['text'])\n",
    "    for line in tqdm_notebook(range(len(sentences))):\n",
    "        sentence = sentences[line].lower().split()\n",
    "        new_sentence = []\n",
    "        for i in range(len(sentence)):\n",
    "            if \"http:\" in sentence[i] or \"https:\" in sentence[i]:\n",
    "                continue\n",
    "            else:\n",
    "                new_sentence.append(sentence[i])\n",
    "        sentences[line] = \" \".join(new_sentence)\n",
    "    data['text'] = sentences\n",
    "    def clean_str1(string):\n",
    "        string = re.sub(r\"[a-z]+:\", \"\", string)\n",
    "        string = re.sub(r\"\\S+@\\S+\", \"\", string)\n",
    "        string = re.sub(r\":[a-z]+\", \"\", string)\n",
    "        string = re.sub(r\"(^|[^@\\w])@(\\w{1,15})\\b\", \"\", string)\n",
    "        string = re.sub(r\"[»]\", \"\", string)\n",
    "    #     string = re.sub(r\"[.]{2,}\", \" \", string)\n",
    "#         string = re.sub(r'\\([^()]*\\)', \"\", string)\n",
    "        string = re.sub(r'[a-z]{3}\\s[a-z]{3}\\s\\d{2}\\,\\s\\d{4}\\s\\d{1,2}\\:\\d{2}\\s[a-z]{2}', \"\", string) #for removing timestamp\n",
    "        string = re.sub(r\"[^A-Za-z0-9()\\'\\`\\’\\.\\?]\", \" \", string)\n",
    "        string = re.sub(r\"[\\’]\",\"'\",string)\n",
    "#         string = re.sub(r\"\\'s\", \" \\'s\", string)\n",
    "#         string = re.sub(r\"\\'ve\", \" \\'ve\", string)\n",
    "#         string = re.sub(r\"n\\'t\", \" n\\'t\", string)\n",
    "#         string = re.sub(r\"\\'re\", \" \\'re\", string)\n",
    "#         string = re.sub(r\"\\'d\", \" \\'d\", string)\n",
    "#         string = re.sub(r\"\\'ll\", \" \\'ll\", string)\n",
    "    #     string = re.sub(r\"!\", \" ! \", string)\n",
    "#         string = re.sub(r\"\\(\", \" \\( \", string)\n",
    "#         string = re.sub(r\"\\)\", \" \\) \", string)\n",
    "    #     string = re.sub(r\"\\?\", \" \\? \", string)\n",
    "        string = re.sub(r\"\\s{2,}\", \" \", string)\n",
    "        return string\n",
    "    data['text'] = [clean_str1(data['text'].iloc[line]) for line in range(len(data))]\n",
    "#     sentences = list(data['text'])\n",
    "#     for line in tqdm_notebook(range(len(sentences))):\n",
    "#         sentence = sentences[line].split()\n",
    "#         new_sentence = []\n",
    "#         for i in range(len(sentence)):\n",
    "#             if sentence[i].isdigit():\n",
    "#                 continue\n",
    "#             else:\n",
    "#                 new_sentence.append(sentence[i])\n",
    "#         sentences[line] = \" \".join(new_sentence)\n",
    "#     data['text'] = sentences\n",
    "    return data"
   ]
  },
  {
   "cell_type": "code",
   "execution_count": 138,
   "metadata": {},
   "outputs": [
    {
     "data": {
      "application/vnd.jupyter.widget-view+json": {
       "model_id": "682b49aec42d4ecaa0f8142d8677e4f3",
       "version_major": 2,
       "version_minor": 0
      },
      "text/plain": [
       "HBox(children=(IntProgress(value=0, max=5279), HTML(value='')))"
      ]
     },
     "metadata": {},
     "output_type": "display_data"
    },
    {
     "name": "stdout",
     "output_type": "stream",
     "text": [
      "\n"
     ]
    },
    {
     "data": {
      "application/vnd.jupyter.widget-view+json": {
       "model_id": "235c37788cee489889d76a46657b1472",
       "version_major": 2,
       "version_minor": 0
      },
      "text/plain": [
       "HBox(children=(IntProgress(value=0, max=2924), HTML(value='')))"
      ]
     },
     "metadata": {},
     "output_type": "display_data"
    },
    {
     "name": "stdout",
     "output_type": "stream",
     "text": [
      "\n"
     ]
    }
   ],
   "source": [
    "train_data = preprocessing(train_data)\n",
    "test_data = preprocessing(test_data)"
   ]
  },
  {
   "cell_type": "code",
   "execution_count": 139,
   "metadata": {},
   "outputs": [],
   "source": [
    "# plt.hist([len(train_data['text'].iloc[line].split()) for line in range(0,len(train_data))],bins=5000)\n",
    "# plt.show()"
   ]
  },
  {
   "cell_type": "code",
   "execution_count": 140,
   "metadata": {},
   "outputs": [
    {
     "name": "stdout",
     "output_type": "stream",
     "text": [
      "20068\n"
     ]
    }
   ],
   "source": [
    "print(max([len(train_data['text'].iloc[line].split()) for line in range(0,len(train_data))]))"
   ]
  },
  {
   "cell_type": "code",
   "execution_count": 141,
   "metadata": {},
   "outputs": [
    {
     "name": "stdout",
     "output_type": "stream",
     "text": [
      "Mean length of the sentences: 344.40272778935406\n"
     ]
    }
   ],
   "source": [
    "print(\"Mean length of the sentences:\",statistics.mean([len(train_data['text'].iloc[line].split()) for line in range(0,len(train_data))]))"
   ]
  },
  {
   "cell_type": "code",
   "execution_count": 142,
   "metadata": {},
   "outputs": [
    {
     "name": "stdout",
     "output_type": "stream",
     "text": [
      "Mean length of the sentences: 400.8515731874145\n",
      "33300\n"
     ]
    }
   ],
   "source": [
    "print(\"Mean length of the sentences:\",statistics.mean([len(test_data['text'].iloc[line].split()) for line in range(0,len(test_data))]))\n",
    "print(max([len(test_data['text'].iloc[line].split()) for line in range(0,len(test_data))]))\n",
    "test_mean_length = 375"
   ]
  },
  {
   "cell_type": "code",
   "execution_count": 15,
   "metadata": {},
   "outputs": [
    {
     "data": {
      "text/plain": [
       "((5279, 4), (2924, 3))"
      ]
     },
     "execution_count": 15,
     "metadata": {},
     "output_type": "execute_result"
    }
   ],
   "source": [
    "train_data.shape, test_data.shape"
   ]
  },
  {
   "cell_type": "code",
   "execution_count": 145,
   "metadata": {},
   "outputs": [],
   "source": [
    "train_data.to_csv(\"train_data_1.csv\",sep=\",\",index=None)\n",
    "test_data.to_csv(\"test_data_1.csv\",sep=\",\",index=None)"
   ]
  },
  {
   "cell_type": "code",
   "execution_count": 144,
   "metadata": {},
   "outputs": [
    {
     "data": {
      "text/plain": [
       "\"i can't give you advice about lemtrada because i chose cladribine. have you thought about this drug? the doctors at barts are keen to give it to people with spms. you can read about it \""
      ]
     },
     "execution_count": 144,
     "metadata": {},
     "output_type": "execute_result"
    }
   ],
   "source": [
    "train_data.text[5]"
   ]
  },
  {
   "cell_type": "code",
   "execution_count": 16,
   "metadata": {},
   "outputs": [],
   "source": [
    "train0 = train_data[train_data.sentiment == 0]\n",
    "train1 = train_data[train_data.sentiment == 1]\n",
    "train2 = train_data[train_data.sentiment == 2].iloc[0:1000]\n",
    "del train_data\n",
    "train0 = train0.append(train1)\n",
    "train0 = train0.append(train2)\n",
    "train_data = train0.copy()\n",
    "del train0\n",
    "del train1\n",
    "del train2"
   ]
  },
  {
   "cell_type": "code",
   "execution_count": 17,
   "metadata": {},
   "outputs": [],
   "source": [
    "corpus = []\n",
    "for line in range(len(train_data)):\n",
    "    corpus.append(train_data['text'].iloc[line].split())\n",
    "for line in range(len(test_data)):\n",
    "    corpus.append(test_data['text'].iloc[line].split())"
   ]
  },
  {
   "cell_type": "code",
   "execution_count": 18,
   "metadata": {},
   "outputs": [],
   "source": [
    "def pad_sentences(sentences, padding_word=\"<PAD/>\"):\n",
    "    \"\"\"\n",
    "    Pads all sentences to the same length. The length is defined by the longest sentence.\n",
    "    Returns padded sentences.\n",
    "    \"\"\"\n",
    "    sequence_length = max(len(x) for x in sentences)\n",
    "#     sequence_length = 375 \n",
    "    padded_sentences = []\n",
    "    for i in range(len(sentences)):\n",
    "        sentence = sentences[i]\n",
    "        num_padding = sequence_length - len(sentence)\n",
    "        new_sentence = sentence + [padding_word] * num_padding\n",
    "        padded_sentences.append(new_sentence)\n",
    "    return padded_sentences"
   ]
  },
  {
   "cell_type": "code",
   "execution_count": 19,
   "metadata": {},
   "outputs": [],
   "source": [
    "import itertools\n",
    "from collections import Counter\n",
    "\n",
    "def build_vocab(sentences):\n",
    "    \"\"\"\n",
    "    Builds a vocabulary mapping from word to index based on the sentences.\n",
    "    Returns vocabulary mapping and inverse vocabulary mapping.\n",
    "    \"\"\"\n",
    "    # Build vocabulary\n",
    "    word_counts = Counter(itertools.chain(*sentences))\n",
    "    # Mapping from index to word\n",
    "    vocabulary_inv = [x[0] for x in word_counts.most_common()]\n",
    "    # Mapping from word to index\n",
    "    vocabulary = {x: i for i, x in enumerate(vocabulary_inv)}\n",
    "    return [vocabulary, vocabulary_inv]"
   ]
  },
  {
   "cell_type": "code",
   "execution_count": 20,
   "metadata": {},
   "outputs": [],
   "source": [
    "def build_input_data(sentences, vocabulary):\n",
    "    \"\"\"\n",
    "    Maps sentencs and labels to vectors based on a vocabulary.\n",
    "    \"\"\"\n",
    "    x = np.array([[vocabulary[word] for word in sentence] for sentence in sentences])\n",
    "#     y = np.array(labels)\n",
    "    return x"
   ]
  },
  {
   "cell_type": "code",
   "execution_count": 21,
   "metadata": {},
   "outputs": [],
   "source": [
    "import numpy as np\n",
    "\n",
    "def load_data():\n",
    "    \"\"\"\n",
    "    Loads and preprocessed data for three dataset.\n",
    "    Returns input vectors, labels, vocabulary, and inverse vocabulary.\n",
    "    \"\"\"\n",
    "    # Load and preprocess data\n",
    "    sentences_padded = pad_sentences(corpus)\n",
    "    vocabulary, vocabulary_inv = build_vocab(sentences_padded)\n",
    "    x = build_input_data(sentences_padded, vocabulary)\n",
    "    return [x, vocabulary, vocabulary_inv]"
   ]
  },
  {
   "cell_type": "code",
   "execution_count": 22,
   "metadata": {},
   "outputs": [],
   "source": [
    "from gensim.models import word2vec\n",
    "from os.path import join, exists, split\n",
    "import numpy as np\n",
    "import os\n",
    "\n",
    "\n",
    "def train_word2vec(sentence_matrix, vocabulary_inv,\n",
    "                   num_features=300, min_word_count=1, context=10):\n",
    "    \"\"\"\n",
    "    Trains, saves, loads Word2Vec model\n",
    "    Returns initial weights for embedding layer.\n",
    "   \n",
    "    inputs:\n",
    "    sentence_matrix # int matrix: num_sentences x max_sentence_len\n",
    "    vocabulary_inv  # dict {int: str}\n",
    "    num_features    # Word vector dimensionality                      \n",
    "    min_word_count  # Minimum word count                        \n",
    "    context         # Context window size \n",
    "    \"\"\"\n",
    "    model_dir = 'models'\n",
    "    model_name = \"{:d}features_{:d}minwords_{:d}context\".format(num_features, min_word_count, context)\n",
    "    model_name = join(model_dir, model_name)\n",
    "    if exists(model_name):\n",
    "        embedding_model = word2vec.Word2Vec.load(model_name)\n",
    "        print('Load existing Word2Vec model \\'%s\\'' % split(model_name)[-1])\n",
    "    else:\n",
    "        # Set values for various parameters\n",
    "        num_workers = 2  # Number of threads to run in parallel\n",
    "        downsampling = 1e-3  # Downsample setting for frequent words\n",
    "\n",
    "        # Initialize and train the model\n",
    "        print('Training Word2Vec model...')\n",
    "        sentences = [[vocabulary_inv[w] for w in s] for s in sentence_matrix]\n",
    "        embedding_model = word2vec.Word2Vec(sentences, workers=num_workers,\n",
    "                                            size=num_features, min_count=min_word_count,\n",
    "                                            window=context, sample=downsampling)\n",
    "\n",
    "        # If we don't plan to train the model any further, calling \n",
    "        # init_sims will make the model much more memory-efficient.\n",
    "        embedding_model.init_sims(replace=True)\n",
    "\n",
    "        # Saving the model for later use. You can load it later using Word2Vec.load()\n",
    "        if not exists(model_dir):\n",
    "            os.mkdir(model_dir)\n",
    "        print('Saving Word2Vec model \\'%s\\'' % split(model_name)[-1])\n",
    "        embedding_model.save(model_name)\n",
    "\n",
    "    # add unknown words\n",
    "    embedding_weights = {key: embedding_model[word] if word in embedding_model else\n",
    "                              np.random.uniform(-0.25, 0.25, embedding_model.vector_size)\n",
    "                         for key, word in vocabulary_inv.items()}\n",
    "    return embedding_weights"
   ]
  },
  {
   "cell_type": "code",
   "execution_count": 23,
   "metadata": {},
   "outputs": [
    {
     "name": "stdout",
     "output_type": "stream",
     "text": [
      "Loading data...\n",
      "Training Word2Vec model...\n",
      "Saving Word2Vec model '300features_1minwords_10context'\n"
     ]
    },
    {
     "name": "stderr",
     "output_type": "stream",
     "text": [
      "D:\\Users\\BULLET\\Anaconda3\\lib\\site-packages\\smart_open\\smart_open_lib.py:398: UserWarning: This function is deprecated, use smart_open.open instead. See the migration notes for details: https://github.com/RaRe-Technologies/smart_open/blob/master/README.rst#migrating-to-the-new-open-function\n",
      "  'See the migration notes for details: %s' % _MIGRATION_NOTES_URL\n",
      "D:\\Users\\BULLET\\Anaconda3\\lib\\site-packages\\ipykernel_launcher.py:51: DeprecationWarning: Call to deprecated `__contains__` (Method will be removed in 4.0.0, use self.wv.__contains__() instead).\n",
      "D:\\Users\\BULLET\\Anaconda3\\lib\\site-packages\\ipykernel_launcher.py:51: DeprecationWarning: Call to deprecated `__getitem__` (Method will be removed in 4.0.0, use self.wv.__getitem__() instead).\n"
     ]
    }
   ],
   "source": [
    "print(\"Loading data...\")\n",
    "x, _, vocabulary_inv_list = load_data()\n",
    "vocabulary_inv = {key: value for key, value in enumerate(vocabulary_inv_list)}\n",
    "w = train_word2vec(x, vocabulary_inv)"
   ]
  },
  {
   "cell_type": "code",
   "execution_count": 24,
   "metadata": {},
   "outputs": [],
   "source": [
    "y = to_categorical(train_data['sentiment'])"
   ]
  },
  {
   "cell_type": "code",
   "execution_count": 25,
   "metadata": {},
   "outputs": [],
   "source": [
    "def plot_history(history):\n",
    "    acc = history.history['acc']\n",
    "    val_acc = history.history['val_acc']\n",
    "    loss = history.history['loss']\n",
    "    val_loss = history.history['val_loss']\n",
    "    x = range(1, len(acc) + 1)\n",
    "    plt.figure(figsize=(12, 5))\n",
    "    plt.subplot(1, 2, 1)\n",
    "    plt.plot(x, acc, 'b', label='Training acc')\n",
    "    plt.plot(x, val_acc, 'r', label='Validation acc')\n",
    "    plt.title('Training and validation accuracy')\n",
    "    plt.legend()\n",
    "    plt.subplot(1, 2, 2)\n",
    "    plt.plot(x, loss, 'b', label='Training loss')\n",
    "    plt.plot(x, val_loss, 'r', label='Validation loss')\n",
    "    plt.title('Training and validation loss')\n",
    "    plt.legend()"
   ]
  },
  {
   "cell_type": "code",
   "execution_count": 53,
   "metadata": {},
   "outputs": [],
   "source": [
    "# Model Hyperparameters\n",
    "embedding_dim = 300\n",
    "filter_sizes = (3, 8)\n",
    "# filter_sizes = 7\n",
    "num_filters = 10\n",
    "dropout_prob = (0.5, 0.8)\n",
    "hidden_dims = 50\n",
    "\n",
    "# Training parameters\n",
    "batch_size = 32\n",
    "num_epochs = 14 \n",
    "\n",
    "sequence_length = 512\n",
    "\n",
    "# Word2Vec parameters (see train_word2vec)\n",
    "min_word_count = 1\n",
    "context = 10"
   ]
  },
  {
   "cell_type": "code",
   "execution_count": 27,
   "metadata": {},
   "outputs": [],
   "source": [
    "def final_load_data():\n",
    "#    assert data_source in [\"keras_data_set\", \"local_dir\"], \"Unknown data source\"\n",
    "#    if data_source == \"keras_data_set\":\n",
    "#        (x_train, y_train), (x_test, y_test) = imdb.load_data(num_words=max_words, start_char=None,\n",
    "#                                                              oov_char=None, index_from=None)\n",
    "#\n",
    "#        x_train = sequence.pad_sequences(x_train, maxlen=sequence_length, padding=\"post\", truncating=\"post\")\n",
    "#        x_test = sequence.pad_sequences(x_test, maxlen=sequence_length, padding=\"post\", truncating=\"post\")\n",
    "#\n",
    "#        vocabulary = imdb.get_word_index()\n",
    "#        vocabulary_inv = dict((v, k) for k, v in vocabulary.items())\n",
    "#        vocabulary_inv[0] = \"<PAD/>\"\n",
    "#    else:\n",
    "    x, vocabulary, vocabulary_inv_list = load_data()\n",
    "    vocabulary_inv = {key: value for key, value in enumerate(vocabulary_inv_list)}\n",
    "#    y = y.argmax(axis=1)\n",
    "\n",
    "    # Shuffle data\n",
    "#     shuffle_indices = np.random.permutation(np.arange(len(y)))\n",
    "#     x = x[shuffle_indices]\n",
    "#     y = y[shuffle_indices]\n",
    "#     print(type(x[0]))\n",
    "#     if type(x[0]) == \"list\":\n",
    "#     print(\"Conversion Executed.\")\n",
    "#     x = [x[line]) for line in range(len(x))]\n",
    "    train_len = 2454\n",
    "    x_train = x[:train_len,:512]\n",
    "    x_test = x[train_len:,:512]\n",
    "\n",
    "    return x_train, x_test, vocabulary_inv"
   ]
  },
  {
   "cell_type": "code",
   "execution_count": 54,
   "metadata": {},
   "outputs": [
    {
     "name": "stdout",
     "output_type": "stream",
     "text": [
      "Load data...\n",
      "x_train shape: (2454, 512)\n",
      "x_test shape: (2924, 512)\n",
      "Vocabulary Size: 35067\n"
     ]
    }
   ],
   "source": [
    "# Data Preparation\n",
    "print(\"Load data...\")\n",
    "x_train, x_test, vocabulary_inv = final_load_data()\n",
    "# if sequence_length != test_mean_length:\n",
    "#     print(\"Adjusting sequence length for actual size\")\n",
    "#     sequence_length = test_mean_length\n",
    "    \n",
    "# x_train = x_train.reshape(5279,375)\n",
    "# x_test = x_test.reshape(2924,375)\n",
    "print(\"x_train shape:\", x_train.shape)\n",
    "print(\"x_test shape:\", x_test.shape)\n",
    "print(\"Vocabulary Size: {:d}\".format(len(vocabulary_inv)))"
   ]
  },
  {
   "cell_type": "code",
   "execution_count": 55,
   "metadata": {},
   "outputs": [
    {
     "name": "stdout",
     "output_type": "stream",
     "text": [
      "Training Word2Vec model...\n",
      "Saving Word2Vec model '300features_1minwords_10context'\n"
     ]
    },
    {
     "name": "stderr",
     "output_type": "stream",
     "text": [
      "D:\\Users\\BULLET\\Anaconda3\\lib\\site-packages\\smart_open\\smart_open_lib.py:398: UserWarning: This function is deprecated, use smart_open.open instead. See the migration notes for details: https://github.com/RaRe-Technologies/smart_open/blob/master/README.rst#migrating-to-the-new-open-function\n",
      "  'See the migration notes for details: %s' % _MIGRATION_NOTES_URL\n",
      "D:\\Users\\BULLET\\Anaconda3\\lib\\site-packages\\ipykernel_launcher.py:51: DeprecationWarning: Call to deprecated `__contains__` (Method will be removed in 4.0.0, use self.wv.__contains__() instead).\n",
      "D:\\Users\\BULLET\\Anaconda3\\lib\\site-packages\\ipykernel_launcher.py:51: DeprecationWarning: Call to deprecated `__getitem__` (Method will be removed in 4.0.0, use self.wv.__getitem__() instead).\n"
     ]
    }
   ],
   "source": [
    "embedding_weights = train_word2vec(np.vstack((x_train, x_test)), vocabulary_inv, num_features=embedding_dim,\n",
    "                                           min_word_count=min_word_count, context=context)"
   ]
  },
  {
   "cell_type": "code",
   "execution_count": 60,
   "metadata": {},
   "outputs": [
    {
     "name": "stdout",
     "output_type": "stream",
     "text": [
      "Initializing embedding layer with word2vec weights, shape (35067, 300)\n",
      "_________________________________________________________________\n",
      "Layer (type)                 Output Shape              Param #   \n",
      "=================================================================\n",
      "input_15 (InputLayer)        (None, 512)               0         \n",
      "_________________________________________________________________\n",
      "embedding (Embedding)        (None, 512, 300)          10520100  \n",
      "_________________________________________________________________\n",
      "conv1d_29 (Conv1D)           (None, 506, 10)           21010     \n",
      "_________________________________________________________________\n",
      "max_pooling1d_29 (MaxPooling (None, 253, 10)           0         \n",
      "_________________________________________________________________\n",
      "conv1d_30 (Conv1D)           (None, 249, 10)           510       \n",
      "_________________________________________________________________\n",
      "max_pooling1d_30 (MaxPooling (None, 49, 10)            0         \n",
      "_________________________________________________________________\n",
      "flatten_20 (Flatten)         (None, 490)               0         \n",
      "_________________________________________________________________\n",
      "dense_33 (Dense)             (None, 50)                24550     \n",
      "_________________________________________________________________\n",
      "dense_34 (Dense)             (None, 3)                 153       \n",
      "=================================================================\n",
      "Total params: 10,566,323\n",
      "Trainable params: 10,566,323\n",
      "Non-trainable params: 0\n",
      "_________________________________________________________________\n",
      "Train on 2208 samples, validate on 246 samples\n",
      "Epoch 1/14\n",
      " - 32s - loss: 1.0796 - acc: 0.4053 - val_loss: 1.1091 - val_acc: 0.0732\n",
      "Epoch 2/14\n",
      " - 31s - loss: 0.9674 - acc: 0.5417 - val_loss: 1.0823 - val_acc: 0.3618\n",
      "Epoch 3/14\n",
      " - 32s - loss: 0.6198 - acc: 0.7817 - val_loss: 1.1882 - val_acc: 0.3821\n",
      "Epoch 4/14\n",
      " - 31s - loss: 0.2028 - acc: 0.9520 - val_loss: 1.4120 - val_acc: 0.4187\n",
      "Epoch 5/14\n",
      " - 31s - loss: 0.0552 - acc: 0.9914 - val_loss: 1.5612 - val_acc: 0.4797\n",
      "Epoch 6/14\n",
      " - 33s - loss: 0.0354 - acc: 0.9973 - val_loss: 1.4024 - val_acc: 0.5447\n",
      "Epoch 7/14\n",
      " - 33s - loss: 0.0178 - acc: 0.9977 - val_loss: 2.6107 - val_acc: 0.3374\n",
      "Epoch 8/14\n",
      " - 33s - loss: 0.0175 - acc: 0.9986 - val_loss: 1.9614 - val_acc: 0.4675\n",
      "Epoch 9/14\n",
      " - 33s - loss: 0.0140 - acc: 0.9986 - val_loss: 1.8259 - val_acc: 0.4715\n",
      "Epoch 10/14\n",
      " - 33s - loss: 0.0147 - acc: 0.9982 - val_loss: 2.3190 - val_acc: 0.4106\n",
      "Epoch 11/14\n",
      " - 33s - loss: 0.0120 - acc: 0.9986 - val_loss: 2.4898 - val_acc: 0.4065\n",
      "Epoch 12/14\n",
      " - 34s - loss: 0.0137 - acc: 0.9982 - val_loss: 1.5555 - val_acc: 0.5650\n",
      "Epoch 13/14\n",
      " - 34s - loss: 0.0105 - acc: 0.9986 - val_loss: 3.0823 - val_acc: 0.3293\n",
      "Epoch 14/14\n",
      " - 34s - loss: 0.0115 - acc: 0.9982 - val_loss: 2.8569 - val_acc: 0.3740\n"
     ]
    },
    {
     "data": {
      "image/png": "[encoded data removed]",
      "text/plain": [
       "<Figure size 864x360 with 2 Axes>"
      ]
     },
     "metadata": {},
     "output_type": "display_data"
    }
   ],
   "source": [
    "input_shape = (sequence_length,)\n",
    "model_input = Input(shape=input_shape)\n",
    "z = Embedding(len(vocabulary_inv), embedding_dim, input_length=sequence_length, name=\"embedding\")(model_input)\n",
    "# z = Dropout(dropout_prob[0])(z)\n",
    "conv_blocks = []\n",
    "# for sz in filter_sizes:\n",
    "conv = Convolution1D(filters=num_filters,\n",
    "                     kernel_size=7,\n",
    "                     padding=\"valid\",\n",
    "                     activation=\"relu\",\n",
    "                     strides=1)(z)\n",
    "conv = MaxPooling1D(pool_size=2)(conv)\n",
    "conv = Convolution1D(filters=num_filters,\n",
    "                     kernel_size=5,\n",
    "                     activation=\"relu\",\n",
    "                     strides=1)(conv)\n",
    "conv = MaxPooling1D(pool_size=5)(conv)\n",
    "conv = Flatten()(conv)\n",
    "conv_blocks.append(conv)\n",
    "z = Concatenate()(conv_blocks) if len(conv_blocks) > 1 else conv_blocks[0]\n",
    "\n",
    "# z = Dropout(dropout_prob[1])(z)\n",
    "# z = Dense(100, activation=\"relu\")(z)\n",
    "z = Dense(hidden_dims, activation=\"relu\")(z)\n",
    "model_output = Dense(3, activation=\"softmax\")(z)\n",
    "\n",
    "model = Model(model_input, model_output)\n",
    "model.compile(loss=\"categorical_crossentropy\", optimizer=\"adam\", metrics=[\"accuracy\"])\n",
    "weights = np.array([v for v in embedding_weights.values()])\n",
    "print(\"Initializing embedding layer with word2vec weights, shape\", weights.shape)\n",
    "embedding_layer = model.get_layer(\"embedding\")\n",
    "embedding_layer.set_weights([weights])\n",
    "model.summary()\n",
    "# Train the model\n",
    "history = model.fit(x_train, y, batch_size=batch_size, epochs=num_epochs,\n",
    "                    validation_split=0.1, verbose=2)\n",
    "plot_history(history)\n",
    "# model.save('sentiment_cnn_model.h5')\n",
    "# model.save_weights('sentiment_cnn_model_weights.h5')"
   ]
  },
  {
   "cell_type": "code",
   "execution_count": 37,
   "metadata": {},
   "outputs": [
    {
     "name": "stdout",
     "output_type": "stream",
     "text": [
      "Initializing embedding layer with word2vec weights, shape (35067, 50)\n",
      "__________________________________________________________________________________________________\n",
      "Layer (type)                    Output Shape         Param #     Connected to                     \n",
      "==================================================================================================\n",
      "input_5 (InputLayer)            (None, 512)          0                                            \n",
      "__________________________________________________________________________________________________\n",
      "embedding (Embedding)           (None, 512, 50)      1753350     input_5[0][0]                    \n",
      "__________________________________________________________________________________________________\n",
      "dropout_8 (Dropout)             (None, 512, 50)      0           embedding[0][0]                  \n",
      "__________________________________________________________________________________________________\n",
      "conv1d_9 (Conv1D)               (None, 510, 10)      1510        dropout_8[0][0]                  \n",
      "__________________________________________________________________________________________________\n",
      "conv1d_10 (Conv1D)              (None, 505, 10)      4010        dropout_8[0][0]                  \n",
      "__________________________________________________________________________________________________\n",
      "max_pooling1d_9 (MaxPooling1D)  (None, 255, 10)      0           conv1d_9[0][0]                   \n",
      "__________________________________________________________________________________________________\n",
      "max_pooling1d_10 (MaxPooling1D) (None, 252, 10)      0           conv1d_10[0][0]                  \n",
      "__________________________________________________________________________________________________\n",
      "flatten_9 (Flatten)             (None, 2550)         0           max_pooling1d_9[0][0]            \n",
      "__________________________________________________________________________________________________\n",
      "flatten_10 (Flatten)            (None, 2520)         0           max_pooling1d_10[0][0]           \n",
      "__________________________________________________________________________________________________\n",
      "concatenate_5 (Concatenate)     (None, 5070)         0           flatten_9[0][0]                  \n",
      "                                                                 flatten_10[0][0]                 \n",
      "__________________________________________________________________________________________________\n",
      "dense_11 (Dense)                (None, 50)           253550      concatenate_5[0][0]              \n",
      "__________________________________________________________________________________________________\n",
      "dense_12 (Dense)                (None, 3)            153         dense_11[0][0]                   \n",
      "==================================================================================================\n",
      "Total params: 2,012,573\n",
      "Trainable params: 2,012,573\n",
      "Non-trainable params: 0\n",
      "__________________________________________________________________________________________________\n",
      "Train on 2208 samples, validate on 246 samples\n",
      "Epoch 1/6\n",
      " - 10s - loss: 1.1089 - acc: 0.3967 - val_loss: 1.2369 - val_acc: 0.0203\n",
      "Epoch 2/6\n",
      " - 9s - loss: 1.0294 - acc: 0.4647 - val_loss: 1.0133 - val_acc: 0.4106\n",
      "Epoch 3/6\n",
      " - 9s - loss: 0.9200 - acc: 0.5720 - val_loss: 0.9696 - val_acc: 0.4919\n",
      "Epoch 4/6\n",
      " - 9s - loss: 0.7555 - acc: 0.6938 - val_loss: 1.4086 - val_acc: 0.2276\n",
      "Epoch 5/6\n",
      " - 9s - loss: 0.5925 - acc: 0.7699 - val_loss: 0.7532 - val_acc: 0.6382\n",
      "Epoch 6/6\n",
      " - 9s - loss: 0.4301 - acc: 0.8555 - val_loss: 1.0300 - val_acc: 0.5732\n"
     ]
    },
    {
     "data": {
      "image/png": "[encoded data removed]",
      "text/plain": [
       "<Figure size 864x360 with 2 Axes>"
      ]
     },
     "metadata": {},
     "output_type": "display_data"
    }
   ],
   "source": [
    "# input_shape = (sequence_length,)\n",
    "# model_input = Input(shape=input_shape)\n",
    "# z = Embedding(len(vocabulary_inv), embedding_dim, input_length=sequence_length, name=\"embedding\")(model_input)\n",
    "# z = Dropout(0.2)(z)\n",
    "# conv_blocks = []\n",
    "# for sz in filter_sizes:\n",
    "#     conv = Convolution1D(filters=num_filters,\n",
    "#                          kernel_size=sz,\n",
    "#                          padding=\"valid\",\n",
    "#                          activation=\"relu\",\n",
    "#                          strides=1)(z)\n",
    "#     conv = MaxPooling1D(pool_size=2)(conv)\n",
    "#     conv = Flatten()(conv)\n",
    "#     conv_blocks.append(conv)\n",
    "# z = Concatenate()(conv_blocks) if len(conv_blocks) > 1 else conv_blocks[0]\n",
    "\n",
    "# # z = Dropout(dropout_prob[1])(z)\n",
    "# # z = Dense(100, activation=\"relu\")(z)\n",
    "# z = Dense(hidden_dims, activation=\"relu\")(z)\n",
    "# model_output = Dense(3, activation=\"softmax\")(z)\n",
    "\n",
    "# model = Model(model_input, model_output)\n",
    "# model.compile(loss=\"categorical_crossentropy\", optimizer=\"rmsprop\", metrics=[\"accuracy\"])\n",
    "# weights = np.array([v for v in embedding_weights.values()])\n",
    "# print(\"Initializing embedding layer with word2vec weights, shape\", weights.shape)\n",
    "# embedding_layer = model.get_layer(\"embedding\")\n",
    "# embedding_layer.set_weights([weights])\n",
    "# model.summary()\n",
    "# # Train the model\n",
    "# history = model.fit(x_train, y, batch_size=batch_size, epochs=num_epochs,\n",
    "#                     validation_split=0.1, verbose=2)\n",
    "# plot_history(history)"
   ]
  },
  {
   "cell_type": "code",
   "execution_count": 48,
   "metadata": {},
   "outputs": [
    {
     "name": "stdout",
     "output_type": "stream",
     "text": [
      "Initializing embedding layer with word2vec weights, shape (42414, 50)\n",
      "_________________________________________________________________\n",
      "Layer (type)                 Output Shape              Param #   \n",
      "=================================================================\n",
      "input_9 (InputLayer)         (None, 375)               0         \n",
      "_________________________________________________________________\n",
      "embedding (Embedding)        (None, 375, 50)           2120700   \n",
      "_________________________________________________________________\n",
      "dropout_13 (Dropout)         (None, 375, 50)           0         \n",
      "_________________________________________________________________\n",
      "batch_normalization_3 (Batch (None, 375, 50)           200       \n",
      "_________________________________________________________________\n",
      "lstm_3 (LSTM)                (None, 375)               639000    \n",
      "_________________________________________________________________\n",
      "dense_13 (Dense)             (None, 3)                 1128      \n",
      "=================================================================\n",
      "Total params: 2,761,028\n",
      "Trainable params: 2,760,928\n",
      "Non-trainable params: 100\n",
      "_________________________________________________________________\n",
      "Train on 4751 samples, validate on 528 samples\n",
      "Epoch 1/14\n",
      "4751/4751 [==============================] - 185s 39ms/step - loss: nan - acc: 0.1223 - val_loss: nan - val_acc: 0.1061\n",
      "Epoch 2/14\n",
      "4751/4751 [==============================] - 183s 39ms/step - loss: nan - acc: 0.1181 - val_loss: nan - val_acc: 0.1061\n",
      "Epoch 3/14\n",
      "4751/4751 [==============================] - 199s 42ms/step - loss: nan - acc: 0.1181 - val_loss: nan - val_acc: 0.1061\n",
      "Epoch 4/14\n",
      "4751/4751 [==============================] - 195s 41ms/step - loss: nan - acc: 0.1181 - val_loss: nan - val_acc: 0.1061\n",
      "Epoch 5/14\n",
      "4751/4751 [==============================] - 167s 35ms/step - loss: nan - acc: 0.1181 - val_loss: nan - val_acc: 0.1061\n",
      "Epoch 6/14\n",
      "4751/4751 [==============================] - 178s 37ms/step - loss: nan - acc: 0.1181 - val_loss: nan - val_acc: 0.1061\n",
      "Epoch 7/14\n",
      "4751/4751 [==============================] - 216s 45ms/step - loss: nan - acc: 0.1181 - val_loss: nan - val_acc: 0.1061\n",
      "Epoch 8/14\n",
      "4751/4751 [==============================] - 175s 37ms/step - loss: nan - acc: 0.1181 - val_loss: nan - val_acc: 0.1061\n",
      "Epoch 9/14\n",
      "4751/4751 [==============================] - 187s 39ms/step - loss: nan - acc: 0.1181 - val_loss: nan - val_acc: 0.1061\n",
      "Epoch 10/14\n",
      "4751/4751 [==============================] - 222s 47ms/step - loss: nan - acc: 0.1181 - val_loss: nan - val_acc: 0.1061\n",
      "Epoch 11/14\n",
      "4751/4751 [==============================] - 174s 37ms/step - loss: nan - acc: 0.1181 - val_loss: nan - val_acc: 0.1061\n",
      "Epoch 12/14\n",
      "4751/4751 [==============================] - 179s 38ms/step - loss: nan - acc: 0.1181 - val_loss: nan - val_acc: 0.1061\n",
      "Epoch 13/14\n",
      "4751/4751 [==============================] - 195s 41ms/step - loss: nan - acc: 0.1181 - val_loss: nan - val_acc: 0.1061\n",
      "Epoch 14/14\n",
      "4751/4751 [==============================] - 203s 43ms/step - loss: nan - acc: 0.1181 - val_loss: nan - val_acc: 0.1061\n"
     ]
    },
    {
     "data": {
      "image/png": "[encoded data removed]",
      "text/plain": [
       "<Figure size 864x360 with 2 Axes>"
      ]
     },
     "metadata": {},
     "output_type": "display_data"
    }
   ],
   "source": [
    "# input_shape = (sequence_length,)\n",
    "# model_input = Input(shape=input_shape)\n",
    "# z = Embedding(len(vocabulary_inv), embedding_dim, input_length=sequence_length, name=\"embedding\")(model_input)\n",
    "# z = Dropout(dropout_prob[0])(z)\n",
    "# z = BatchNormalization()(z)\n",
    "# z = LSTM(375, dropout=0.2, recurrent_dropout=0.4,activation='relu')(z)\n",
    "# model_output = Dense(3, activation=\"softmax\")(z)\n",
    "# model = Model(model_input, model_output)\n",
    "# model.compile(loss=\"categorical_crossentropy\", optimizer=\"rmsprop\", metrics=[\"accuracy\"])\n",
    "# print(\"Initializing embedding layer with word2vec weights, shape\", weights.shape)\n",
    "# embedding_layer = model.get_layer(\"embedding\")\n",
    "# embedding_layer.set_weights([weights])\n",
    "# model.summary()\n",
    "# # Train the model\n",
    "# history = model.fit(x_train, y, batch_size=batch_size, epochs=num_epochs,\n",
    "#                     validation_split=0.1, verbose=1)\n",
    "# plot_history(history)"
   ]
  },
  {
   "cell_type": "code",
   "execution_count": 61,
   "metadata": {},
   "outputs": [],
   "source": [
    "predictions = model.predict(x_test)"
   ]
  },
  {
   "cell_type": "code",
   "execution_count": 62,
   "metadata": {},
   "outputs": [],
   "source": [
    "predictions = np.argmax(predictions,axis=-1)"
   ]
  },
  {
   "cell_type": "code",
   "execution_count": 63,
   "metadata": {},
   "outputs": [
    {
     "data": {
      "text/plain": [
       "array([1, 1, 2, ..., 1, 2, 1], dtype=int64)"
      ]
     },
     "execution_count": 63,
     "metadata": {},
     "output_type": "execute_result"
    }
   ],
   "source": [
    "predictions"
   ]
  },
  {
   "cell_type": "code",
   "execution_count": 36,
   "metadata": {},
   "outputs": [
    {
     "ename": "NameError",
     "evalue": "name 'X' is not defined",
     "output_type": "error",
     "traceback": [
      "\u001b[0;31m---------------------------------------------------------------------------\u001b[0m",
      "\u001b[0;31mNameError\u001b[0m                                 Traceback (most recent call last)",
      "\u001b[0;32m<ipython-input-36-336f17bd6377>\u001b[0m in \u001b[0;36m<module>\u001b[0;34m\u001b[0m\n\u001b[1;32m      2\u001b[0m \u001b[0mmodel\u001b[0m \u001b[0;34m=\u001b[0m \u001b[0mload_model\u001b[0m\u001b[0;34m(\u001b[0m\u001b[0;34m'sentiment_cnn_model.h5'\u001b[0m\u001b[0;34m)\u001b[0m\u001b[0;34m\u001b[0m\u001b[0;34m\u001b[0m\u001b[0m\n\u001b[1;32m      3\u001b[0m \u001b[0mmodel\u001b[0m\u001b[0;34m.\u001b[0m\u001b[0mload_weights\u001b[0m\u001b[0;34m(\u001b[0m\u001b[0;34m'sentiment_cnn_model_weights.h5'\u001b[0m\u001b[0;34m)\u001b[0m\u001b[0;34m\u001b[0m\u001b[0;34m\u001b[0m\u001b[0m\n\u001b[0;32m----> 4\u001b[0;31m \u001b[0mprediction\u001b[0m \u001b[0;34m=\u001b[0m \u001b[0mmodel\u001b[0m\u001b[0;34m.\u001b[0m\u001b[0mpredict\u001b[0m\u001b[0;34m(\u001b[0m\u001b[0mX\u001b[0m\u001b[0;34m)\u001b[0m\u001b[0;34m\u001b[0m\u001b[0;34m\u001b[0m\u001b[0m\n\u001b[0m",
      "\u001b[0;31mNameError\u001b[0m: name 'X' is not defined"
     ]
    }
   ],
   "source": [
    "# from keras.models import load_model\n",
    "# model = load_model('sentiment_cnn_model.h5')\n",
    "# model.load_weights('sentiment_cnn_model_weights.h5')\n",
    "# prediction = model.predict(X)"
   ]
  },
  {
   "cell_type": "code",
   "execution_count": 41,
   "metadata": {},
   "outputs": [
    {
     "data": {
      "text/plain": [
       "2924"
      ]
     },
     "execution_count": 41,
     "metadata": {},
     "output_type": "execute_result"
    }
   ],
   "source": [
    "len(predictions)"
   ]
  },
  {
   "cell_type": "code",
   "execution_count": 42,
   "metadata": {},
   "outputs": [
    {
     "data": {
      "text/plain": [
       "Index(['unique_hash', 'text', 'drug'], dtype='object')"
      ]
     },
     "execution_count": 42,
     "metadata": {},
     "output_type": "execute_result"
    }
   ],
   "source": [
    "test_data.columns"
   ]
  },
  {
   "cell_type": "code",
   "execution_count": 40,
   "metadata": {},
   "outputs": [
    {
     "ename": "NameError",
     "evalue": "name 'submission' is not defined",
     "output_type": "error",
     "traceback": [
      "\u001b[0;31m---------------------------------------------------------------------------\u001b[0m",
      "\u001b[0;31mNameError\u001b[0m                                 Traceback (most recent call last)",
      "\u001b[0;32m<ipython-input-40-c0104ef13e16>\u001b[0m in \u001b[0;36m<module>\u001b[0;34m\u001b[0m\n\u001b[0;32m----> 1\u001b[0;31m \u001b[0;32mdel\u001b[0m \u001b[0msubmission\u001b[0m\u001b[0;34m\u001b[0m\u001b[0;34m\u001b[0m\u001b[0m\n\u001b[0m",
      "\u001b[0;31mNameError\u001b[0m: name 'submission' is not defined"
     ]
    }
   ],
   "source": [
    "del submission"
   ]
  },
  {
   "cell_type": "code",
   "execution_count": 66,
   "metadata": {},
   "outputs": [],
   "source": [
    "# submission = pd.DataFrame(test_data['unique_hash'])\n",
    "# submission['sentiment'] = pd.Series(predictions)\n",
    "# submission['sentiment'] = submission['sentiment'].astype('int32')\n",
    "# submission.columns = ['']\n",
    "submission.to_csv(\"cnn_model_d_2.csv\",sep=\",\",index=None)"
   ]
  },
  {
   "cell_type": "code",
   "execution_count": 44,
   "metadata": {},
   "outputs": [
    {
     "data": {
      "text/plain": [
       "False"
      ]
     },
     "execution_count": 44,
     "metadata": {},
     "output_type": "execute_result"
    }
   ],
   "source": [
    "submission.index=='sentiment'"
   ]
  },
  {
   "cell_type": "code",
   "execution_count": 45,
   "metadata": {},
   "outputs": [
    {
     "data": {
      "text/html": [
       "<div>\n",
       "<style scoped>\n",
       "    .dataframe tbody tr th:only-of-type {\n",
       "        vertical-align: middle;\n",
       "    }\n",
       "\n",
       "    .dataframe tbody tr th {\n",
       "        vertical-align: top;\n",
       "    }\n",
       "\n",
       "    .dataframe thead th {\n",
       "        text-align: right;\n",
       "    }\n",
       "</style>\n",
       "<table border=\"1\" class=\"dataframe\">\n",
       "  <thead>\n",
       "    <tr style=\"text-align: right;\">\n",
       "      <th></th>\n",
       "      <th>unique_hash</th>\n",
       "      <th>sentiment</th>\n",
       "    </tr>\n",
       "  </thead>\n",
       "  <tbody>\n",
       "    <tr>\n",
       "      <th>0</th>\n",
       "      <td>9e9a8166b84114aca147bf409f6f956635034c08</td>\n",
       "      <td>2</td>\n",
       "    </tr>\n",
       "    <tr>\n",
       "      <th>1</th>\n",
       "      <td>e747e6822c867571afe7b907b51f0f2ca67b0e1a</td>\n",
       "      <td>2</td>\n",
       "    </tr>\n",
       "    <tr>\n",
       "      <th>2</th>\n",
       "      <td>50b6d851bcff4f35afe354937949e9948975adf7</td>\n",
       "      <td>2</td>\n",
       "    </tr>\n",
       "    <tr>\n",
       "      <th>3</th>\n",
       "      <td>7f82ec2176ae6ab0b5d20b5ffc767ac829f384ae</td>\n",
       "      <td>2</td>\n",
       "    </tr>\n",
       "    <tr>\n",
       "      <th>4</th>\n",
       "      <td>8b37d169dee5bdae27060949242fb54feb6a7f7f</td>\n",
       "      <td>2</td>\n",
       "    </tr>\n",
       "    <tr>\n",
       "      <th>5</th>\n",
       "      <td>b1950d27d94ceff4e9bf8c7d1fd4b11b35ede4d7</td>\n",
       "      <td>0</td>\n",
       "    </tr>\n",
       "    <tr>\n",
       "      <th>6</th>\n",
       "      <td>abafc5b6c5aac6f777cf265e5c7dd80fb793e6bc</td>\n",
       "      <td>2</td>\n",
       "    </tr>\n",
       "    <tr>\n",
       "      <th>7</th>\n",
       "      <td>e5550693e72a8335d723ca5fc64da91e1256fb0b</td>\n",
       "      <td>2</td>\n",
       "    </tr>\n",
       "    <tr>\n",
       "      <th>8</th>\n",
       "      <td>ee8c500f6402331ff12b0b29d943b6d1699a0b8d</td>\n",
       "      <td>1</td>\n",
       "    </tr>\n",
       "    <tr>\n",
       "      <th>9</th>\n",
       "      <td>d261600ba4fc022fac12748845deed56822ff195</td>\n",
       "      <td>2</td>\n",
       "    </tr>\n",
       "    <tr>\n",
       "      <th>10</th>\n",
       "      <td>ed1836e3e3597568a9b3d58dcfe8ed7143bba4bd</td>\n",
       "      <td>0</td>\n",
       "    </tr>\n",
       "    <tr>\n",
       "      <th>11</th>\n",
       "      <td>4b63c92b430a34abdc659a2ceee6fb353a759502</td>\n",
       "      <td>1</td>\n",
       "    </tr>\n",
       "    <tr>\n",
       "      <th>12</th>\n",
       "      <td>c046fc70caab19d74271855afa4b0fce56eed65d</td>\n",
       "      <td>2</td>\n",
       "    </tr>\n",
       "    <tr>\n",
       "      <th>13</th>\n",
       "      <td>7e6cd0d963891627f809b8b3430817dc08a4671e</td>\n",
       "      <td>2</td>\n",
       "    </tr>\n",
       "    <tr>\n",
       "      <th>14</th>\n",
       "      <td>c1db106d5edc8db4a139acd3532e137903b88dfe</td>\n",
       "      <td>1</td>\n",
       "    </tr>\n",
       "    <tr>\n",
       "      <th>15</th>\n",
       "      <td>58bb0752dd7b4835195f27c975bf4ec27dbf5d06</td>\n",
       "      <td>2</td>\n",
       "    </tr>\n",
       "    <tr>\n",
       "      <th>16</th>\n",
       "      <td>17158941d16c145b692b65acdc0098d7cde98fd1</td>\n",
       "      <td>2</td>\n",
       "    </tr>\n",
       "    <tr>\n",
       "      <th>17</th>\n",
       "      <td>245536722a649761b30a740031040a937d8b3e0e</td>\n",
       "      <td>1</td>\n",
       "    </tr>\n",
       "    <tr>\n",
       "      <th>18</th>\n",
       "      <td>a62ee194c75afeb7527adc2ac3fc1bf4861b818d</td>\n",
       "      <td>1</td>\n",
       "    </tr>\n",
       "    <tr>\n",
       "      <th>19</th>\n",
       "      <td>3b792ab6f0d8cbd690fffd1361c23b6638d47219</td>\n",
       "      <td>2</td>\n",
       "    </tr>\n",
       "    <tr>\n",
       "      <th>20</th>\n",
       "      <td>08837b701a4b7c06272d2205ba3a0a2bb9fc8435</td>\n",
       "      <td>2</td>\n",
       "    </tr>\n",
       "    <tr>\n",
       "      <th>21</th>\n",
       "      <td>4c8c81babeb983eb8b420a0f6d49b7eb0e230c8b</td>\n",
       "      <td>1</td>\n",
       "    </tr>\n",
       "    <tr>\n",
       "      <th>22</th>\n",
       "      <td>8019e9a28546fa0e1887844aa8479301e2750986</td>\n",
       "      <td>2</td>\n",
       "    </tr>\n",
       "    <tr>\n",
       "      <th>23</th>\n",
       "      <td>fc74b89e8dd0cc22ab96dad95a488358230fe3f3</td>\n",
       "      <td>2</td>\n",
       "    </tr>\n",
       "    <tr>\n",
       "      <th>24</th>\n",
       "      <td>165f60e24b14b3b0ee19e4334701fbee7a06cc1f</td>\n",
       "      <td>1</td>\n",
       "    </tr>\n",
       "    <tr>\n",
       "      <th>25</th>\n",
       "      <td>f1fd1bed04c41117a2c51af38463a6cdfe483325</td>\n",
       "      <td>1</td>\n",
       "    </tr>\n",
       "    <tr>\n",
       "      <th>26</th>\n",
       "      <td>20144ae5f449aa112467d7622d484c7d2fcbc622</td>\n",
       "      <td>1</td>\n",
       "    </tr>\n",
       "    <tr>\n",
       "      <th>27</th>\n",
       "      <td>a1ceb5f6d0b925186d194bdd155f27c6ab16a217</td>\n",
       "      <td>2</td>\n",
       "    </tr>\n",
       "    <tr>\n",
       "      <th>28</th>\n",
       "      <td>cc2872fbb66ec3d00e2bc894571246a645055429</td>\n",
       "      <td>2</td>\n",
       "    </tr>\n",
       "    <tr>\n",
       "      <th>29</th>\n",
       "      <td>4c327cd2d678ff430a4489d1b43698d60d73abcf</td>\n",
       "      <td>1</td>\n",
       "    </tr>\n",
       "    <tr>\n",
       "      <th>...</th>\n",
       "      <td>...</td>\n",
       "      <td>...</td>\n",
       "    </tr>\n",
       "    <tr>\n",
       "      <th>2894</th>\n",
       "      <td>561130b9255a4a46023f5ce6d9ae2374c7bd1c50</td>\n",
       "      <td>1</td>\n",
       "    </tr>\n",
       "    <tr>\n",
       "      <th>2895</th>\n",
       "      <td>acf6bea80faf3dba078342f66a9ce8351c02ef60</td>\n",
       "      <td>2</td>\n",
       "    </tr>\n",
       "    <tr>\n",
       "      <th>2896</th>\n",
       "      <td>6986e1fb247990de93cde29af8c83a09029c9804</td>\n",
       "      <td>1</td>\n",
       "    </tr>\n",
       "    <tr>\n",
       "      <th>2897</th>\n",
       "      <td>6bf651941b810d41f84877c9602ddf15a09b9382</td>\n",
       "      <td>2</td>\n",
       "    </tr>\n",
       "    <tr>\n",
       "      <th>2898</th>\n",
       "      <td>672dfcc1fa1c5dddc0b4a49c61f8f852728dc6aa</td>\n",
       "      <td>2</td>\n",
       "    </tr>\n",
       "    <tr>\n",
       "      <th>2899</th>\n",
       "      <td>cb8616abf1aca5f889d0b6f4ae9536969d6ad5e5</td>\n",
       "      <td>2</td>\n",
       "    </tr>\n",
       "    <tr>\n",
       "      <th>2900</th>\n",
       "      <td>8a4fcfefc6843912a6be51f18bf8c7b825d36e97</td>\n",
       "      <td>1</td>\n",
       "    </tr>\n",
       "    <tr>\n",
       "      <th>2901</th>\n",
       "      <td>25a23752af4ba3b683d074b20ef8326f3bead778</td>\n",
       "      <td>2</td>\n",
       "    </tr>\n",
       "    <tr>\n",
       "      <th>2902</th>\n",
       "      <td>5628edb82bbbda51dfe5880437e74021ce359d34</td>\n",
       "      <td>2</td>\n",
       "    </tr>\n",
       "    <tr>\n",
       "      <th>2903</th>\n",
       "      <td>7d4aaca38c667a5963a77f4bdc2c402c1d46475d</td>\n",
       "      <td>1</td>\n",
       "    </tr>\n",
       "    <tr>\n",
       "      <th>2904</th>\n",
       "      <td>e1d71fc77f39137e2ca2bddbf188f60298a806f0</td>\n",
       "      <td>2</td>\n",
       "    </tr>\n",
       "    <tr>\n",
       "      <th>2905</th>\n",
       "      <td>4fcf70d5275b4d762d5f9a3a3285d8d545603a41</td>\n",
       "      <td>2</td>\n",
       "    </tr>\n",
       "    <tr>\n",
       "      <th>2906</th>\n",
       "      <td>066541a05b58de835e616f5dd665befdf8883757</td>\n",
       "      <td>0</td>\n",
       "    </tr>\n",
       "    <tr>\n",
       "      <th>2907</th>\n",
       "      <td>0a64ad868e3e8ae835207d73eba15b0abf306341</td>\n",
       "      <td>1</td>\n",
       "    </tr>\n",
       "    <tr>\n",
       "      <th>2908</th>\n",
       "      <td>239ad9b43b272e13e32927d43576143f4d6a1207</td>\n",
       "      <td>2</td>\n",
       "    </tr>\n",
       "    <tr>\n",
       "      <th>2909</th>\n",
       "      <td>fd29c11624cedcd362f5093f0bb1b31c288e8f58</td>\n",
       "      <td>0</td>\n",
       "    </tr>\n",
       "    <tr>\n",
       "      <th>2910</th>\n",
       "      <td>d3f908dd7fa0f39e8fea05e06c689553f3bc9ca5</td>\n",
       "      <td>0</td>\n",
       "    </tr>\n",
       "    <tr>\n",
       "      <th>2911</th>\n",
       "      <td>6056167f150213b0394c63b4119778ccc751181e</td>\n",
       "      <td>2</td>\n",
       "    </tr>\n",
       "    <tr>\n",
       "      <th>2912</th>\n",
       "      <td>1992ecb6f13204047039e4928e7619ce5ea161e4</td>\n",
       "      <td>2</td>\n",
       "    </tr>\n",
       "    <tr>\n",
       "      <th>2913</th>\n",
       "      <td>cb5f464e95c2881f77a914ee7313e8440fa3c921</td>\n",
       "      <td>1</td>\n",
       "    </tr>\n",
       "    <tr>\n",
       "      <th>2914</th>\n",
       "      <td>04e2cede6d4f8fdf0f632c84bc991a9b5a9c6f94</td>\n",
       "      <td>2</td>\n",
       "    </tr>\n",
       "    <tr>\n",
       "      <th>2915</th>\n",
       "      <td>b6c5b383282b31dca327caee258565a6726a32bb</td>\n",
       "      <td>0</td>\n",
       "    </tr>\n",
       "    <tr>\n",
       "      <th>2916</th>\n",
       "      <td>6a6cb6fed029f72bae04b62d9481be3476114b18</td>\n",
       "      <td>2</td>\n",
       "    </tr>\n",
       "    <tr>\n",
       "      <th>2917</th>\n",
       "      <td>937fca3e61512aaf82764139d01830e569cd45ba</td>\n",
       "      <td>2</td>\n",
       "    </tr>\n",
       "    <tr>\n",
       "      <th>2918</th>\n",
       "      <td>32e9eca022d634fff808646b97fd18bfd64523de</td>\n",
       "      <td>2</td>\n",
       "    </tr>\n",
       "    <tr>\n",
       "      <th>2919</th>\n",
       "      <td>ac6e60bec9162ae66effd29a0dc9ad11ff966df6</td>\n",
       "      <td>2</td>\n",
       "    </tr>\n",
       "    <tr>\n",
       "      <th>2920</th>\n",
       "      <td>12afabb6210825308ead9894916abdfc912d7c43</td>\n",
       "      <td>2</td>\n",
       "    </tr>\n",
       "    <tr>\n",
       "      <th>2921</th>\n",
       "      <td>021bb88c92a71229288304d691d53c3ff7004e4b</td>\n",
       "      <td>1</td>\n",
       "    </tr>\n",
       "    <tr>\n",
       "      <th>2922</th>\n",
       "      <td>9936efcb83eded79fe9454df188edd7b96c6109e</td>\n",
       "      <td>2</td>\n",
       "    </tr>\n",
       "    <tr>\n",
       "      <th>2923</th>\n",
       "      <td>05402df12d6769d7f38ab40e0b81464e65e1df0a</td>\n",
       "      <td>1</td>\n",
       "    </tr>\n",
       "  </tbody>\n",
       "</table>\n",
       "<p>2924 rows × 2 columns</p>\n",
       "</div>"
      ],
      "text/plain": [
       "                                   unique_hash  sentiment\n",
       "0     9e9a8166b84114aca147bf409f6f956635034c08          2\n",
       "1     e747e6822c867571afe7b907b51f0f2ca67b0e1a          2\n",
       "2     50b6d851bcff4f35afe354937949e9948975adf7          2\n",
       "3     7f82ec2176ae6ab0b5d20b5ffc767ac829f384ae          2\n",
       "4     8b37d169dee5bdae27060949242fb54feb6a7f7f          2\n",
       "5     b1950d27d94ceff4e9bf8c7d1fd4b11b35ede4d7          0\n",
       "6     abafc5b6c5aac6f777cf265e5c7dd80fb793e6bc          2\n",
       "7     e5550693e72a8335d723ca5fc64da91e1256fb0b          2\n",
       "8     ee8c500f6402331ff12b0b29d943b6d1699a0b8d          1\n",
       "9     d261600ba4fc022fac12748845deed56822ff195          2\n",
       "10    ed1836e3e3597568a9b3d58dcfe8ed7143bba4bd          0\n",
       "11    4b63c92b430a34abdc659a2ceee6fb353a759502          1\n",
       "12    c046fc70caab19d74271855afa4b0fce56eed65d          2\n",
       "13    7e6cd0d963891627f809b8b3430817dc08a4671e          2\n",
       "14    c1db106d5edc8db4a139acd3532e137903b88dfe          1\n",
       "15    58bb0752dd7b4835195f27c975bf4ec27dbf5d06          2\n",
       "16    17158941d16c145b692b65acdc0098d7cde98fd1          2\n",
       "17    245536722a649761b30a740031040a937d8b3e0e          1\n",
       "18    a62ee194c75afeb7527adc2ac3fc1bf4861b818d          1\n",
       "19    3b792ab6f0d8cbd690fffd1361c23b6638d47219          2\n",
       "20    08837b701a4b7c06272d2205ba3a0a2bb9fc8435          2\n",
       "21    4c8c81babeb983eb8b420a0f6d49b7eb0e230c8b          1\n",
       "22    8019e9a28546fa0e1887844aa8479301e2750986          2\n",
       "23    fc74b89e8dd0cc22ab96dad95a488358230fe3f3          2\n",
       "24    165f60e24b14b3b0ee19e4334701fbee7a06cc1f          1\n",
       "25    f1fd1bed04c41117a2c51af38463a6cdfe483325          1\n",
       "26    20144ae5f449aa112467d7622d484c7d2fcbc622          1\n",
       "27    a1ceb5f6d0b925186d194bdd155f27c6ab16a217          2\n",
       "28    cc2872fbb66ec3d00e2bc894571246a645055429          2\n",
       "29    4c327cd2d678ff430a4489d1b43698d60d73abcf          1\n",
       "...                                        ...        ...\n",
       "2894  561130b9255a4a46023f5ce6d9ae2374c7bd1c50          1\n",
       "2895  acf6bea80faf3dba078342f66a9ce8351c02ef60          2\n",
       "2896  6986e1fb247990de93cde29af8c83a09029c9804          1\n",
       "2897  6bf651941b810d41f84877c9602ddf15a09b9382          2\n",
       "2898  672dfcc1fa1c5dddc0b4a49c61f8f852728dc6aa          2\n",
       "2899  cb8616abf1aca5f889d0b6f4ae9536969d6ad5e5          2\n",
       "2900  8a4fcfefc6843912a6be51f18bf8c7b825d36e97          1\n",
       "2901  25a23752af4ba3b683d074b20ef8326f3bead778          2\n",
       "2902  5628edb82bbbda51dfe5880437e74021ce359d34          2\n",
       "2903  7d4aaca38c667a5963a77f4bdc2c402c1d46475d          1\n",
       "2904  e1d71fc77f39137e2ca2bddbf188f60298a806f0          2\n",
       "2905  4fcf70d5275b4d762d5f9a3a3285d8d545603a41          2\n",
       "2906  066541a05b58de835e616f5dd665befdf8883757          0\n",
       "2907  0a64ad868e3e8ae835207d73eba15b0abf306341          1\n",
       "2908  239ad9b43b272e13e32927d43576143f4d6a1207          2\n",
       "2909  fd29c11624cedcd362f5093f0bb1b31c288e8f58          0\n",
       "2910  d3f908dd7fa0f39e8fea05e06c689553f3bc9ca5          0\n",
       "2911  6056167f150213b0394c63b4119778ccc751181e          2\n",
       "2912  1992ecb6f13204047039e4928e7619ce5ea161e4          2\n",
       "2913  cb5f464e95c2881f77a914ee7313e8440fa3c921          1\n",
       "2914  04e2cede6d4f8fdf0f632c84bc991a9b5a9c6f94          2\n",
       "2915  b6c5b383282b31dca327caee258565a6726a32bb          0\n",
       "2916  6a6cb6fed029f72bae04b62d9481be3476114b18          2\n",
       "2917  937fca3e61512aaf82764139d01830e569cd45ba          2\n",
       "2918  32e9eca022d634fff808646b97fd18bfd64523de          2\n",
       "2919  ac6e60bec9162ae66effd29a0dc9ad11ff966df6          2\n",
       "2920  12afabb6210825308ead9894916abdfc912d7c43          2\n",
       "2921  021bb88c92a71229288304d691d53c3ff7004e4b          1\n",
       "2922  9936efcb83eded79fe9454df188edd7b96c6109e          2\n",
       "2923  05402df12d6769d7f38ab40e0b81464e65e1df0a          1\n",
       "\n",
       "[2924 rows x 2 columns]"
      ]
     },
     "execution_count": 45,
     "metadata": {},
     "output_type": "execute_result"
    }
   ],
   "source": [
    "submission"
   ]
  },
  {
   "cell_type": "code",
   "execution_count": 65,
   "metadata": {},
   "outputs": [
    {
     "data": {
      "text/plain": [
       "2    1104\n",
       "1    1029\n",
       "0     791\n",
       "Name: sentiment, dtype: int64"
      ]
     },
     "execution_count": 65,
     "metadata": {},
     "output_type": "execute_result"
    }
   ],
   "source": [
    "submission.sentiment.value_counts()"
   ]
  },
  {
   "cell_type": "code",
   "execution_count": 890,
   "metadata": {},
   "outputs": [],
   "source": [
    "# data['text'][17]"
   ]
  },
  {
   "cell_type": "code",
   "execution_count": 891,
   "metadata": {},
   "outputs": [],
   "source": [
    "# data['text'][17]"
   ]
  },
  {
   "cell_type": "code",
   "execution_count": 892,
   "metadata": {},
   "outputs": [],
   "source": [
    "# data['text'][5]"
   ]
  },
  {
   "cell_type": "code",
   "execution_count": 893,
   "metadata": {},
   "outputs": [],
   "source": [
    "# data['text'][11]"
   ]
  },
  {
   "cell_type": "code",
   "execution_count": 894,
   "metadata": {},
   "outputs": [],
   "source": [
    "# data['text'][20]"
   ]
  },
  {
   "cell_type": "code",
   "execution_count": 895,
   "metadata": {},
   "outputs": [],
   "source": [
    "# data['text'][6]"
   ]
  },
  {
   "cell_type": "code",
   "execution_count": 896,
   "metadata": {},
   "outputs": [],
   "source": [
    "# data['text'][10]"
   ]
  },
  {
   "cell_type": "code",
   "execution_count": 897,
   "metadata": {},
   "outputs": [],
   "source": [
    "# data['text'][89]"
   ]
  },
  {
   "cell_type": "code",
   "execution_count": 898,
   "metadata": {},
   "outputs": [],
   "source": [
    "# data['text'][56]"
   ]
  },
  {
   "cell_type": "code",
   "execution_count": 899,
   "metadata": {},
   "outputs": [],
   "source": [
    "# data['text'][1]"
   ]
  },
  {
   "cell_type": "code",
   "execution_count": 900,
   "metadata": {},
   "outputs": [],
   "source": [
    "# data['text'][5]"
   ]
  },
  {
   "cell_type": "code",
   "execution_count": null,
   "metadata": {},
   "outputs": [],
   "source": []
  }
 ],
 "metadata": {
  "kernelspec": {
   "display_name": "Python 3",
   "language": "python",
   "name": "python3"
  },
  "language_info": {
   "codemirror_mode": {
    "name": "ipython",
    "version": 3
   },
   "file_extension": ".py",
   "mimetype": "text/x-python",
   "name": "python",
   "nbconvert_exporter": "python",
   "pygments_lexer": "ipython3",
   "version": "3.6.5"
  }
 },
 "nbformat": 4,
 "nbformat_minor": 2
}
